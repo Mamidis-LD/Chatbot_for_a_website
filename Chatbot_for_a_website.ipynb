{
  "nbformat": 4,
  "nbformat_minor": 0,
  "metadata": {
    "colab": {
      "provenance": [],
      "authorship_tag": "ABX9TyOJeyhmVB55TdmqjTGs+4sN",
      "include_colab_link": true
    },
    "kernelspec": {
      "name": "python3",
      "display_name": "Python 3"
    },
    "language_info": {
      "name": "python"
    }
  },
  "cells": [
    {
      "cell_type": "markdown",
      "metadata": {
        "id": "view-in-github",
        "colab_type": "text"
      },
      "source": [
        "<a href=\"https://colab.research.google.com/github/Mamidis-LD/Chatbot_for_a_website/blob/main/Chatbot_for_a_website.ipynb\" target=\"_parent\"><img src=\"https://colab.research.google.com/assets/colab-badge.svg\" alt=\"Open In Colab\"/></a>"
      ]
    },
    {
      "cell_type": "code",
      "execution_count": 14,
      "metadata": {
        "colab": {
          "base_uri": "https://localhost:8080/"
        },
        "id": "WrqHepG15kKO",
        "outputId": "b4767e15-230b-4149-b0b1-ffce4c732aae"
      },
      "outputs": [
        {
          "output_type": "stream",
          "name": "stderr",
          "text": [
            "[nltk_data] Downloading package punkt to /root/nltk_data...\n",
            "[nltk_data]   Package punkt is already up-to-date!\n",
            "[nltk_data] Downloading package wordnet to /root/nltk_data...\n"
          ]
        },
        {
          "output_type": "execute_result",
          "data": {
            "text/plain": [
              "True"
            ]
          },
          "metadata": {},
          "execution_count": 14
        }
      ],
      "source": [
        "import nltk\n",
        "import bs4 as bs\n",
        "import numpy as np\n",
        "import random\n",
        "import urllib.request\n",
        "import re\n",
        "import nltk\n",
        "nltk.download('punkt')\n",
        "nltk.download('wordnet')"
      ]
    },
    {
      "cell_type": "code",
      "source": [
        "link = urllib.request.urlopen('https://www.investopedia.com/terms/s/stockmarket.asp')\n",
        "link = link.read()\n",
        "article_link = bs.BeautifulSoup(link, 'lxml')\n",
        "article_paragraph = article_link.find_all('p')\n",
        "article_text = ''\n",
        "\n",
        "for par in article_paragraph:\n",
        "    article_text += par.text\n",
        "article_text = article_text.lower()\n"
      ],
      "metadata": {
        "id": "Mbhi7QxC5rgO"
      },
      "execution_count": 15,
      "outputs": []
    },
    {
      "cell_type": "code",
      "source": [
        "article_text = re.sub(r'\\[[0-9]*\\]', ' ', article_text)\n",
        "article_text = re.sub(r'\\s+',' ',article_text)"
      ],
      "metadata": {
        "id": "GeGSXh8_5tmn"
      },
      "execution_count": 16,
      "outputs": []
    },
    {
      "cell_type": "code",
      "source": [
        "article_sentences = nltk.sent_tokenize(article_text)\n",
        "article_words = nltk.word_tokenize(article_text)"
      ],
      "metadata": {
        "id": "51xsShHH5vGF"
      },
      "execution_count": 17,
      "outputs": []
    },
    {
      "cell_type": "code",
      "source": [
        "import string\n",
        "lemmatizer = nltk.stem.WordNetLemmatizer()\n",
        "def perform_lemmatization(tokens):\n",
        "    return [lemmatizer.lemmatize(token) for token in tokens]\n",
        "\n",
        "punctuation_removal = dict((ord(i),None) for i in string.punctuation)\n",
        "\n",
        "def get_preprocessed_text(doc):\n",
        "    return perform_lemmatization(nltk.word_tokenize(doc.lower().translate(punctuation_removal)))"
      ],
      "metadata": {
        "id": "VUZxLYao5wbn"
      },
      "execution_count": 18,
      "outputs": []
    },
    {
      "cell_type": "code",
      "source": [
        "greeting_inputs = [\"hey\", \"good morning\", \"good evening\" , \"morning\" , \"evening\",\"hi\",\"whatsapp\"]\n",
        "greeting_responses = [\"hey\", \"hey hows you?\", \"nods\",\"helllo, how you doing\", \"Welcome, I am good and you\"]\n",
        "def generate_greeting_response(greeting):\n",
        "      for token in greeting.split():\n",
        "            if token. lower() in greeting_inputs:\n",
        "                  return random.choice(greeting_responses)"
      ],
      "metadata": {
        "id": "EWymUWj256cZ"
      },
      "execution_count": 19,
      "outputs": []
    },
    {
      "cell_type": "code",
      "source": [
        "from sklearn.metrics.pairwise import cosine_similarity\n",
        "from sklearn.feature_extraction.text import TfidfVectorizer, CountVectorizer"
      ],
      "metadata": {
        "id": "uGy3Ky5j57dz"
      },
      "execution_count": 20,
      "outputs": []
    },
    {
      "cell_type": "code",
      "source": [
        "def generate_response(user_input):\n",
        "    RoboSure_response = ''\n",
        "    article_sentences.append(user_input)\n",
        "    word_vectorizer = TfidfVectorizer(tokenizer=get_preprocessed_text,stop_words=\"english\")\n",
        "    all_vectorized_words = word_vectorizer.fit_transform(article_sentences)\n",
        "    similar_vector_values = cosine_similarity(all_vectorized_words[-1],all_vectorized_words)\n",
        "    similar_sentence_number = similar_vector_values.argsort()[0][-2]\n",
        "    matched_vector = similar_vector_values.flatten()\n",
        "    matched_vector.sort()\n",
        "    vector_matched = matched_vector[-2]\n",
        "    if vector_matched == 0:\n",
        "        RoboSure_response = RoboSure_response + \"I am Sorry, i Couldnt understand\"\n",
        "        return RoboSure_response\n",
        "    else:\n",
        "        RoboSure_response = RoboSure_response + article_sentences[similar_sentence_number]\n",
        "        return RoboSure_response"
      ],
      "metadata": {
        "id": "E26MPf6O59Uv"
      },
      "execution_count": 21,
      "outputs": []
    },
    {
      "cell_type": "code",
      "source": [
        "continue_dialogue = True\n",
        "print(\"Hello I am your Friend RoboSure\")\n",
        "while(continue_dialogue == True):\n",
        "    human_text = input()\n",
        "    human_text = human_text.lower()\n",
        "    print('You : ', human_text)\n",
        "    if human_text != \"bye\":\n",
        "        if human_text == \"Thank you\" or human_text == \"Thank you\" or human_text == \"thank you very much\":\n",
        "            continue_dialogue = False\n",
        "            print(\"RoboSure: Most Welcome\")\n",
        "        else:\n",
        "            if generate_greeting_response(human_text) != None:\n",
        "                print('RoboSure' + generate_greeting_response(human_text))\n",
        "            else:\n",
        "                print(\"RoboSure:\",end=\"\")\n",
        "                print(generate_response(human_text))\n",
        "                article_sentences.remove(human_text)\n",
        "    else:\n",
        "        continue_dialogue = False\n",
        "        print(\"RoboSure : Good bye and take care of yourself ...\")\n"
      ],
      "metadata": {
        "colab": {
          "base_uri": "https://localhost:8080/"
        },
        "id": "C5nC006B5_3Y",
        "outputId": "a302a971-4378-47d9-f5a6-f14905b9a6fc"
      },
      "execution_count": 22,
      "outputs": [
        {
          "output_type": "stream",
          "name": "stdout",
          "text": [
            "Hello I am your Friend RoboSure\n",
            "What are bonds?\n",
            "You :  what are bonds?\n",
            "RoboSure:"
          ]
        },
        {
          "output_type": "stream",
          "name": "stderr",
          "text": [
            "/usr/local/lib/python3.10/dist-packages/sklearn/feature_extraction/text.py:409: UserWarning: Your stop_words may be inconsistent with your preprocessing. Tokenizing the stop words generated tokens ['ha', 'le', 'u', 'wa'] not in stop_words.\n",
            "  warnings.warn(\n"
          ]
        },
        {
          "output_type": "stream",
          "name": "stdout",
          "text": [
            "worldwide, the bond market is larger than the stock market, with about $130 trillion in bonds outstanding and about $101 trillion in stock market capitalization, according to the last data available.\n",
            "what is stock exchange?\n",
            "You :  what is stock exchange?\n",
            "RoboSure:there are major exchanges worldwide, such as the london stock exchange, the tokyo stock exchange, and the shanghai stock exchange.\n",
            "what are regulators?\n",
            "You :  what are regulators?\n",
            "RoboSure:whatever type of broker, they are all regulated by the sec and financial industry regulatory authority (finra) in the u.s. a significant aspect of the stock market—dictating what’s traded and how—is the regulations and regulators involved.\n",
            "how stock prices are determined\n",
            "You :  how stock prices are determined\n",
            "RoboSure:rising stock prices are associated with corporate profitability and economic growth while declining prices signal problems ahead.\n",
            "what does the stock market do?\n",
            "You :  what does the stock market do?\n",
            "RoboSure:traders in the stock market buy or sell shares on one or more stock exchanges, which are only part of the overall stock market.\n",
            "why stocks are important?\n",
            "You :  why stocks are important?\n",
            "RoboSure:indexes are important since they are used as benchmarks for stocks and portfolios.\n",
            "what's the difference between the bond market and the stock market?\n",
            "You :  what's the difference between the bond market and the stock market?\n",
            "RoboSure:worldwide, the bond market is larger than the stock market, with about $130 trillion in bonds outstanding and about $101 trillion in stock market capitalization, according to the last data available.\n",
            "what is an alternate trading system?\n",
            "You :  what is an alternate trading system?\n",
            "RoboSure:\"about trading and markets.\n",
            "yes\n",
            "You :  yes\n",
            "RoboSure:I am Sorry, i Couldnt understand\n",
            "bye\n",
            "You :  bye\n",
            "RoboSure : Good bye and take care of yourself ...\n"
          ]
        }
      ]
    },
    {
      "cell_type": "code",
      "source": [],
      "metadata": {
        "id": "ttUTIAd26C2a"
      },
      "execution_count": null,
      "outputs": []
    }
  ]
}